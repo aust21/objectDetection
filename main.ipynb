{
 "cells": [
  {
   "cell_type": "code",
   "execution_count": 21,
   "id": "4f19ff6d",
   "metadata": {},
   "outputs": [],
   "source": [
    "import cv2\n",
    "import time"
   ]
  },
  {
   "cell_type": "code",
   "execution_count": 52,
   "id": "d83e94a8",
   "metadata": {},
   "outputs": [],
   "source": [
    "def get_video(video_file):\n",
    "    return cv2.VideoCapture(video_file)\n",
    "\n",
    "def classsify(cascade):\n",
    "    return cv2.CascadeClassifier(cascade)\n",
    "\n",
    "def run_loop(video, classifier):\n",
    "    while True:\n",
    "        ret, frame = feed.read()\n",
    "\n",
    "        if frame is None:\n",
    "            time.sleep(3)\n",
    "            break\n",
    "        frame = cv2.resize(frame, None, None, fx=.5, fy=.5)\n",
    "\n",
    "        gray_scale = cv2.cvtColor(frame, cv2.COLOR_RGB2GRAY)\n",
    "        cars = classifier.detectMultiScale(gray_scale, 1.1, 3)\n",
    "        for i, (x,y,w,h) in enumerate(cars):\n",
    "            cv2.rectangle(frame,(x,y),(x+w,y+h),(0,255,0),2)\n",
    "            cv2.imshow(\"God's Eye\", frame) \n",
    "        if cv2.waitKey(2) & 0xFF == ord('q'):\n",
    "            break\n",
    "\n",
    "    feed.release()\n",
    "    cv2.destroyAllWindows() \n",
    "    \n",
    "feed = get_video(\"cars.mp4\")\n",
    "classifier = classsify(\"haarcascade_cars.xml\")\n",
    "run_loop(feed, classifier)"
   ]
  },
  {
   "cell_type": "code",
   "execution_count": null,
   "id": "a815795b",
   "metadata": {},
   "outputs": [],
   "source": []
  }
 ],
 "metadata": {
  "kernelspec": {
   "display_name": "Python 3 (ipykernel)",
   "language": "python",
   "name": "python3"
  },
  "language_info": {
   "codemirror_mode": {
    "name": "ipython",
    "version": 3
   },
   "file_extension": ".py",
   "mimetype": "text/x-python",
   "name": "python",
   "nbconvert_exporter": "python",
   "pygments_lexer": "ipython3",
   "version": "3.10.12"
  }
 },
 "nbformat": 4,
 "nbformat_minor": 5
}
